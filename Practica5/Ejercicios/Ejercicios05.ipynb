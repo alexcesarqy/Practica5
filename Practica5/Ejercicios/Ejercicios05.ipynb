{
 "cells": [
  {
   "cell_type": "markdown",
   "id": "32ff7891-1955-409f-886a-0a9a1ffe3dd4",
   "metadata": {},
   "source": [
    "# Ejercicios\n"
   ]
  },
  {
   "cell_type": "markdown",
   "id": "d486843e-730c-483b-82b9-8218d875e96f",
   "metadata": {},
   "source": [
    "### Ejercicio 1: Verificar números pares e impares en un rango\n",
    "Hacer un programa que ingrese por teclado un número inicial y un número final para generar un rango.\n",
    "- Imprimir de cada número si es par o impar (recorrer la lista).\n",
    "- Utilizando el operador `%`.\n",
    "- Utilizar `while` y funciones de verificación.\n"
   ]
  },
  {
   "cell_type": "code",
   "execution_count": 3,
   "id": "b497bd0a-ed6c-4a33-9f4a-8201a0e7a1cb",
   "metadata": {},
   "outputs": [
    {
     "name": "stdin",
     "output_type": "stream",
     "text": [
      "Ingrese el número inicial:  1\n",
      "Ingrese el número final:  10\n"
     ]
    },
    {
     "name": "stdout",
     "output_type": "stream",
     "text": [
      "\n",
      "Resultados:\n",
      "El número 1 es impar.\n",
      "El número 2 es par.\n",
      "El número 3 es impar.\n",
      "El número 4 es par.\n",
      "El número 5 es impar.\n",
      "El número 6 es par.\n",
      "El número 7 es impar.\n",
      "El número 8 es par.\n",
      "El número 9 es impar.\n",
      "El número 10 es par.\n"
     ]
    }
   ],
   "source": [
    "\n",
    "def verificar_paridad(numero):\n",
    "    if numero % 2 == 0:\n",
    "        return \"par\"\n",
    "    else:\n",
    "        return \"impar\"\n",
    "\n",
    "\n",
    "num_inicial = int(input(\"Ingrese el número inicial: \"))\n",
    "num_final = int(input(\"Ingrese el número final: \"))\n",
    "\n",
    "\n",
    "print(\"\\nResultados:\")\n",
    "while num_inicial <= num_final:\n",
    "    resultado = verificar_paridad(num_inicial)\n",
    "    print(f\"El número {num_inicial} es {resultado}.\")\n",
    "    num_inicial += 1\n"
   ]
  },
  {
   "cell_type": "markdown",
   "id": "e30e227e-5443-49d5-97ac-d02a68b59c06",
   "metadata": {},
   "source": [
    "## Ejercicio 2: Tabla de multiplicar de un número\n",
    "Hacer un programa que:\n",
    "- Solicite un número.\n",
    "- Imprima las tablas de multiplicar del 1 al 10 de dicho número.\n",
    "- Utilizar `while` y funciones.\n"
   ]
  },
  {
   "cell_type": "code",
   "execution_count": 5,
   "id": "dff87162-1f1f-468b-ae85-c6226592c1bd",
   "metadata": {},
   "outputs": [
    {
     "name": "stdin",
     "output_type": "stream",
     "text": [
      "Ingrese un número para imprimir su tabla de multiplicar:  5\n"
     ]
    },
    {
     "name": "stdout",
     "output_type": "stream",
     "text": [
      "\n",
      "Tabla de multiplicar:\n",
      "5 x 1 = 5\n",
      "5 x 2 = 10\n",
      "5 x 3 = 15\n",
      "5 x 4 = 20\n",
      "5 x 5 = 25\n",
      "5 x 6 = 30\n",
      "5 x 7 = 35\n",
      "5 x 8 = 40\n",
      "5 x 9 = 45\n",
      "5 x 10 = 50\n"
     ]
    }
   ],
   "source": [
    "\n",
    "def imprimir_tabla(numero):\n",
    "    i = 1\n",
    "    while i <= 10:\n",
    "        print(f\"{numero} x {i} = {numero * i}\")\n",
    "        i += 1\n",
    "\n",
    "\n",
    "num = int(input(\"Ingrese un número para imprimir su tabla de multiplicar: \"))\n",
    "\n",
    "\n",
    "print(\"\\nTabla de multiplicar:\")\n",
    "imprimir_tabla(num)\n"
   ]
  },
  {
   "cell_type": "markdown",
   "id": "e893d27b-9162-4cc2-b440-611e51a5509f",
   "metadata": {},
   "source": [
    "## Ejercicio 3: Validar nombre y apellido\n",
    "Hacer un programa que solicite el ingreso de un nombre y apellido:\n",
    "- Verificar que el nombre y/o apellido no contengan números.\n",
    "- Verificar que el nombre y/o apellido no contengan símbolos extraños.\n",
    "- Si no son válidos, solicitar que el usuario vuelva a ingresar el nombre y apellido.\n",
    "- Utilizar `while` y funciones.\n"
   ]
  },
  {
   "cell_type": "code",
   "execution_count": 7,
   "id": "9443271f-f010-433b-a7e7-b886ade5fb7a",
   "metadata": {},
   "outputs": [
    {
     "name": "stdin",
     "output_type": "stream",
     "text": [
      "Ingrese su nombre:  alex\n",
      "Ingrese su apellido:  Yncarroque\n"
     ]
    },
    {
     "name": "stdout",
     "output_type": "stream",
     "text": [
      "\n",
      "Nombre y apellido válidos.\n"
     ]
    }
   ],
   "source": [
    "\n",
    "def validar_nombre(texto):\n",
    "    return texto.replace(\" \", \"\").isalpha()\n",
    "\n",
    "\n",
    "while True:\n",
    "    nombre = input(\"Ingrese su nombre: \").strip()\n",
    "    apellido = input(\"Ingrese su apellido: \").strip()\n",
    "\n",
    "    if validar_nombre(nombre) and validar_nombre(apellido):\n",
    "        print(\"\\nNombre y apellido válidos.\")\n",
    "        break\n",
    "    else:\n",
    "        print(\"El nombre o apellido contiene caracteres no válidos. Intente nuevamente.\")\n"
   ]
  },
  {
   "cell_type": "markdown",
   "id": "e339878b-6c8c-489f-8bd0-54009a4427dc",
   "metadata": {},
   "source": [
    "## Ejercicio 4: Análisis de comentarios EPIT\n",
    "Hacer un programa que:\n",
    "- Solicite el ingreso de un comentario de un alumno EPIT.\n",
    "- Verifique si el texto tiene palabras negativas como \"malo\", \"pésimo\", \"no\", etc.; si es así, imprima \"Comentario NEGATIVO\".\n",
    "- Verifique si el texto tiene palabras positivas como \"bueno\", \"excelente\", \"bien\", etc.; si es así, imprima \"Comentario POSITIVO\".\n",
    "- Utilizar listas, comandos `while` y funciones.\n"
   ]
  },
  {
   "cell_type": "code",
   "execution_count": 23,
   "id": "7878a4a5-1c7a-404a-8395-572d2bed5d25",
   "metadata": {},
   "outputs": [
    {
     "name": "stdin",
     "output_type": "stream",
     "text": [
      "Ingrese un comentario (o 'salir' para terminar):  bien\n"
     ]
    },
    {
     "name": "stdout",
     "output_type": "stream",
     "text": [
      "\n",
      "Resultado: Comentario POSITIVO\n"
     ]
    },
    {
     "name": "stdin",
     "output_type": "stream",
     "text": [
      "Ingrese un comentario (o 'salir' para terminar):  no\n"
     ]
    },
    {
     "name": "stdout",
     "output_type": "stream",
     "text": [
      "\n",
      "Resultado: Comentario NEGATIVO\n"
     ]
    },
    {
     "name": "stdin",
     "output_type": "stream",
     "text": [
      "Ingrese un comentario (o 'salir' para terminar):  salir\n"
     ]
    },
    {
     "name": "stdout",
     "output_type": "stream",
     "text": [
      "Programa finalizado.\n"
     ]
    }
   ],
   "source": [
    "\n",
    "palabras_positivas = [\"bueno\", \"excelente\", \"bien\"]\n",
    "palabras_negativas = [\"malo\", \"pésimo\", \"no\"]\n",
    "\n",
    "def analizar_comentario(comentario):\n",
    "    for palabra in palabras_negativas:\n",
    "        if palabra in comentario.lower():\n",
    "            return \"Comentario NEGATIVO\"\n",
    "    for palabra in palabras_positivas:\n",
    "        if palabra in comentario.lower():\n",
    "            return \"Comentario POSITIVO\"\n",
    "    return \"Comentario NEUTRO\"\n",
    "\n",
    "\n",
    "while True:\n",
    "    comentario = input(\"Ingrese un comentario (o 'salir' para terminar): \").strip()\n",
    "    if comentario.lower() == \"salir\":\n",
    "        print(\"Programa finalizado.\")\n",
    "        break\n",
    "    resultado = analizar_comentario(comentario)\n",
    "    print(f\"\\nResultado: {resultado}\")\n"
   ]
  },
  {
   "cell_type": "markdown",
   "id": "612e76b0-e2b1-474b-a703-3d65c89441a4",
   "metadata": {},
   "source": [
    "## Ejercicio 5: Generar listas de múltiplos\n",
    "Hacer un programa que:\n",
    "- Genere una lista aleatoria de hasta 60 números.\n",
    "- Subdivida la lista en tres listas pequeñas:\n",
    "  - Lista de múltiplos de 2.\n",
    "  - Lista de múltiplos de 3.\n",
    "  - Lista de múltiplos de 5.\n",
    "- Utilice `while` para recorrer la lista y funciones para verificar.\n"
   ]
  },
  {
   "cell_type": "code",
   "execution_count": 21,
   "id": "b58dc841-4427-40bc-990b-73b57f26b1a6",
   "metadata": {},
   "outputs": [
    {
     "name": "stdout",
     "output_type": "stream",
     "text": [
      "Números generados: [93, 38, 55, 75, 36, 2, 15, 26, 28, 15, 9, 59, 48, 88, 91, 58, 73, 16, 64, 91, 88, 13, 67, 57, 85, 85, 42, 49, 16, 25, 11, 100, 68, 93, 71, 75, 7, 64, 33, 73, 79, 78, 93, 53, 40, 81, 93, 20, 93, 98, 24, 73, 59, 65, 87, 19, 81, 79, 63, 3]\n",
      "Múltiplos de 2: [38, 36, 2, 26, 28, 48, 88, 58, 16, 64, 88, 42, 16, 100, 68, 64, 78, 40, 20, 98, 24]\n",
      "Múltiplos de 3: [93, 75, 36, 15, 15, 9, 48, 57, 42, 93, 75, 33, 78, 93, 81, 93, 93, 24, 87, 81, 63, 3]\n",
      "Múltiplos de 5: [55, 75, 15, 15, 85, 85, 25, 100, 75, 40, 20, 65]\n"
     ]
    }
   ],
   "source": [
    "import random\n",
    "\n",
    "def generar_lista(n, limite):\n",
    "    return [random.randint(1, limite) for _ in range(n)]\n",
    "\n",
    "def es_multiplo(num, divisor):\n",
    "    return num % divisor == 0\n",
    "\n",
    "numeros = generar_lista(60, 100)\n",
    "\n",
    "multiplos_2 = []\n",
    "multiplos_3 = []\n",
    "multiplos_5 = []\n",
    "\n",
    "i = 0\n",
    "while i < len(numeros):\n",
    "    if es_multiplo(numeros[i], 2):\n",
    "        multiplos_2.append(numeros[i])\n",
    "    if es_multiplo(numeros[i], 3):\n",
    "        multiplos_3.append(numeros[i])\n",
    "    if es_multiplo(numeros[i], 5):\n",
    "        multiplos_5.append(numeros[i])\n",
    "    i += 1\n",
    "\n",
    "print(\"Números generados:\", numeros)\n",
    "print(\"Múltiplos de 2:\", multiplos_2)\n",
    "print(\"Múltiplos de 3:\", multiplos_3)\n",
    "print(\"Múltiplos de 5:\", multiplos_5)\n"
   ]
  },
  {
   "cell_type": "markdown",
   "id": "00f12714-6177-40dc-b44a-4a1c55b5ecde",
   "metadata": {},
   "source": [
    "## Ejercicio 6: Números capicúa\n",
    "Hacer un programa que:\n",
    "- Solicite por teclado un número inicial de 3 cifras y un número final de 4 cifras.\n",
    "- Genere un rango de números consecutivos entre los valores ingresados.\n",
    "- Imprima si cada número del rango es capicúa.\n",
    "- Utilice `while` y funciones para verificar.\n"
   ]
  },
  {
   "cell_type": "code",
   "execution_count": 19,
   "id": "acbb6343-c041-479f-8348-39df9b1caca1",
   "metadata": {},
   "outputs": [
    {
     "name": "stdin",
     "output_type": "stream",
     "text": [
      "Ingrese un número inicial (3 cifras):  123\n",
      "Ingrese un número final (4 cifras):  1234\n"
     ]
    },
    {
     "name": "stdout",
     "output_type": "stream",
     "text": [
      "131 es capicúa.\n",
      "141 es capicúa.\n",
      "151 es capicúa.\n",
      "161 es capicúa.\n",
      "171 es capicúa.\n",
      "181 es capicúa.\n",
      "191 es capicúa.\n",
      "202 es capicúa.\n",
      "212 es capicúa.\n",
      "222 es capicúa.\n",
      "232 es capicúa.\n",
      "242 es capicúa.\n",
      "252 es capicúa.\n",
      "262 es capicúa.\n",
      "272 es capicúa.\n",
      "282 es capicúa.\n",
      "292 es capicúa.\n",
      "303 es capicúa.\n",
      "313 es capicúa.\n",
      "323 es capicúa.\n",
      "333 es capicúa.\n",
      "343 es capicúa.\n",
      "353 es capicúa.\n",
      "363 es capicúa.\n",
      "373 es capicúa.\n",
      "383 es capicúa.\n",
      "393 es capicúa.\n",
      "404 es capicúa.\n",
      "414 es capicúa.\n",
      "424 es capicúa.\n",
      "434 es capicúa.\n",
      "444 es capicúa.\n",
      "454 es capicúa.\n",
      "464 es capicúa.\n",
      "474 es capicúa.\n",
      "484 es capicúa.\n",
      "494 es capicúa.\n",
      "505 es capicúa.\n",
      "515 es capicúa.\n",
      "525 es capicúa.\n",
      "535 es capicúa.\n",
      "545 es capicúa.\n",
      "555 es capicúa.\n",
      "565 es capicúa.\n",
      "575 es capicúa.\n",
      "585 es capicúa.\n",
      "595 es capicúa.\n",
      "606 es capicúa.\n",
      "616 es capicúa.\n",
      "626 es capicúa.\n",
      "636 es capicúa.\n",
      "646 es capicúa.\n",
      "656 es capicúa.\n",
      "666 es capicúa.\n",
      "676 es capicúa.\n",
      "686 es capicúa.\n",
      "696 es capicúa.\n",
      "707 es capicúa.\n",
      "717 es capicúa.\n",
      "727 es capicúa.\n",
      "737 es capicúa.\n",
      "747 es capicúa.\n",
      "757 es capicúa.\n",
      "767 es capicúa.\n",
      "777 es capicúa.\n",
      "787 es capicúa.\n",
      "797 es capicúa.\n",
      "808 es capicúa.\n",
      "818 es capicúa.\n",
      "828 es capicúa.\n",
      "838 es capicúa.\n",
      "848 es capicúa.\n",
      "858 es capicúa.\n",
      "868 es capicúa.\n",
      "878 es capicúa.\n",
      "888 es capicúa.\n",
      "898 es capicúa.\n",
      "909 es capicúa.\n",
      "919 es capicúa.\n",
      "929 es capicúa.\n",
      "939 es capicúa.\n",
      "949 es capicúa.\n",
      "959 es capicúa.\n",
      "969 es capicúa.\n",
      "979 es capicúa.\n",
      "989 es capicúa.\n",
      "999 es capicúa.\n",
      "1001 es capicúa.\n",
      "1111 es capicúa.\n",
      "1221 es capicúa.\n"
     ]
    }
   ],
   "source": [
    "\n",
    "def es_capicua(numero):\n",
    "    return str(numero) == str(numero)[::-1]\n",
    "\n",
    "\n",
    "while True:\n",
    "    inicial = int(input(\"Ingrese un número inicial (3 cifras): \"))\n",
    "    final = int(input(\"Ingrese un número final (4 cifras): \"))\n",
    "    if 100 <= inicial <= 999 and 1000 <= final <= 9999:\n",
    "        break\n",
    "    else:\n",
    "        print(\"Los números deben tener las cifras correctas. Intente nuevamente.\")\n",
    "\n",
    "\n",
    "numero = inicial\n",
    "while numero <= final:\n",
    "    if es_capicua(numero):\n",
    "        print(f\"{numero} es capicúa.\")\n",
    "    numero += 1\n"
   ]
  },
  {
   "cell_type": "markdown",
   "id": "f518f901-03a2-4d92-8802-9f12bba25733",
   "metadata": {},
   "source": [
    "## Ejercicio 7: Validar DNI\n",
    "Hacer un programa que:\n",
    "- Solicite el ingreso del DNI de un ciudadano.\n",
    "- Verifique que el DNI:\n",
    "  - No contenga letras del abecedario.\n",
    "  - No contenga símbolos extraños.\n",
    "  - Tenga exactamente 8 números.\n",
    "- Si el DNI no es válido, solicite que se ingrese nuevamente.\n",
    "- Utilice `while` y funciones.\n"
   ]
  },
  {
   "cell_type": "code",
   "execution_count": 25,
   "id": "54c9d786-d312-4ad8-a963-971c38bcd829",
   "metadata": {},
   "outputs": [
    {
     "name": "stdin",
     "output_type": "stream",
     "text": [
      "Ingrese su DNI:  74578098\n"
     ]
    },
    {
     "name": "stdout",
     "output_type": "stream",
     "text": [
      "\n",
      "DNI válido.\n"
     ]
    }
   ],
   "source": [
    "\n",
    "def validar_dni(dni):\n",
    "    return dni.isdigit() and len(dni) == 8\n",
    "\n",
    "while True:\n",
    "    dni = input(\"Ingrese su DNI: \").strip()\n",
    "    if validar_dni(dni):\n",
    "        print(\"\\nDNI válido.\")\n",
    "        break\n",
    "    else:\n",
    "        print(\"El DNI no es válido. Intente nuevamente.\")\n"
   ]
  },
  {
   "cell_type": "code",
   "execution_count": null,
   "id": "1c484c3f-c597-4416-9f5f-be004b4ad8d0",
   "metadata": {},
   "outputs": [],
   "source": []
  }
 ],
 "metadata": {
  "kernelspec": {
   "display_name": "Python 3 (ipykernel)",
   "language": "python",
   "name": "python3"
  },
  "language_info": {
   "codemirror_mode": {
    "name": "ipython",
    "version": 3
   },
   "file_extension": ".py",
   "mimetype": "text/x-python",
   "name": "python",
   "nbconvert_exporter": "python",
   "pygments_lexer": "ipython3",
   "version": "3.12.7"
  }
 },
 "nbformat": 4,
 "nbformat_minor": 5
}
