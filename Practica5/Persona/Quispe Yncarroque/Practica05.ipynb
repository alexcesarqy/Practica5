{
 "cells": [
  {
   "cell_type": "markdown",
   "id": "4aa4c09b-bc09-4266-9585-09c7d9368f10",
   "metadata": {},
   "source": [
    "# Desarrollo: Estructura Iterativa - Bucle \"while\""
   ]
  },
  {
   "cell_type": "markdown",
   "id": "551e7627-d7d2-4bf6-ae3e-e1222b4a4793",
   "metadata": {},
   "source": [
    "El bucle `while` ejecuta repetidamente un bloque de código mientras se cumpla una condición.  \n",
    "El bloque de líneas de código después de los `:` de la sentencia `while` se ejecutará siempre y cuando la condición de la sentencia sea `True`.\n",
    "\n",
    "IMPORTANTE\n",
    "Se debe evitar la ejecución de bucles infinitos.\n"
   ]
  },
  {
   "cell_type": "markdown",
   "id": "c0289716-1526-4485-93a0-db384801bc06",
   "metadata": {},
   "source": [
    "# Hacer un programa que imprima la tabla del 3.\n"
   ]
  },
  {
   "cell_type": "code",
   "execution_count": 1,
   "id": "ccdaab17-cb4b-4f7c-89b4-2252e735398c",
   "metadata": {},
   "outputs": [
    {
     "name": "stdout",
     "output_type": "stream",
     "text": [
      "3 x 1 = 3\n",
      "3 x 2 = 6\n",
      "3 x 3 = 9\n",
      "3 x 4 = 12\n",
      "3 x 5 = 15\n",
      "3 x 6 = 18\n",
      "3 x 7 = 21\n",
      "3 x 8 = 24\n",
      "3 x 9 = 27\n",
      "3 x 10 = 30\n"
     ]
    }
   ],
   "source": [
    "\n",
    "i = 1\n",
    "while i <= 10:\n",
    "    print(f\"3 x {i} = {3 * i}\")\n",
    "    i += 1  # Incrementar para evitar bucle infinito\n"
   ]
  },
  {
   "cell_type": "markdown",
   "id": "2e8809db-405e-4523-9eda-056a36323b58",
   "metadata": {},
   "source": [
    "# Hacer un programa que repita una frase las veces que se desee.\n"
   ]
  },
  {
   "cell_type": "code",
   "execution_count": 3,
   "id": "f7a85e59-26c8-47b7-8fbe-5ded44217002",
   "metadata": {},
   "outputs": [
    {
     "name": "stdin",
     "output_type": "stream",
     "text": [
      "Ingrese una frase:  computo\n",
      "¿Cuántas veces desea repetirla?  3\n"
     ]
    },
    {
     "name": "stdout",
     "output_type": "stream",
     "text": [
      "computo\n",
      "computo\n",
      "computo\n"
     ]
    }
   ],
   "source": [
    "\n",
    "def repetir_frase(frase, veces):\n",
    "    contador = 1\n",
    "    while contador <= veces:\n",
    "        print(frase)\n",
    "        contador += 1\n",
    "\n",
    "\n",
    "frase = input(\"Ingrese una frase: \")\n",
    "veces = int(input(\"¿Cuántas veces desea repetirla? \"))\n",
    "\n",
    "\n",
    "repetir_frase(frase, veces)\n"
   ]
  },
  {
   "cell_type": "markdown",
   "id": "31aed794-0e42-4fea-b6a2-2cfafd9040a5",
   "metadata": {},
   "source": [
    "# Hacer un programa que solicite ingreso de contraseña.\n"
   ]
  },
  {
   "cell_type": "code",
   "execution_count": 5,
   "id": "01a9762a-416f-4769-86a3-3a784d2043ca",
   "metadata": {},
   "outputs": [
    {
     "name": "stdin",
     "output_type": "stream",
     "text": [
      "Ingrese la contraseña:  computo\n"
     ]
    },
    {
     "name": "stdout",
     "output_type": "stream",
     "text": [
      "Contraseña incorrecta. Intentos restantes: 2\n"
     ]
    },
    {
     "name": "stdin",
     "output_type": "stream",
     "text": [
      "Ingrese la contraseña:  computo\n"
     ]
    },
    {
     "name": "stdout",
     "output_type": "stream",
     "text": [
      "Contraseña incorrecta. Intentos restantes: 1\n"
     ]
    },
    {
     "name": "stdin",
     "output_type": "stream",
     "text": [
      "Ingrese la contraseña:  1234\n"
     ]
    },
    {
     "name": "stdout",
     "output_type": "stream",
     "text": [
      "¡Contraseña correcta!\n"
     ]
    }
   ],
   "source": [
    "\n",
    "password_correcta = \"1234\"\n",
    "intentos = 3\n",
    "\n",
    "while intentos > 0:\n",
    "    password = input(\"Ingrese la contraseña: \")\n",
    "    if password == password_correcta:\n",
    "        print(\"¡Contraseña correcta!\")\n",
    "        break  # Salir del bucle si es correcta\n",
    "    else:\n",
    "        intentos -= 1\n",
    "        print(f\"Contraseña incorrecta. Intentos restantes: {intentos}\")\n"
   ]
  },
  {
   "cell_type": "markdown",
   "id": "0d0e6e60-1e6d-4b5c-8f5d-010587407ebc",
   "metadata": {},
   "source": [
    "# Validar nombre usando break\n",
    "## Hacer un programa que valide el ingreso del nombre \"Rose\".\n"
   ]
  },
  {
   "cell_type": "code",
   "execution_count": 7,
   "id": "cfc28eed-a287-40e3-a121-d29b17fdf095",
   "metadata": {},
   "outputs": [
    {
     "name": "stdin",
     "output_type": "stream",
     "text": [
      "Ingrese su nombre:  rose\n"
     ]
    },
    {
     "name": "stdout",
     "output_type": "stream",
     "text": [
      "¡Nombre válido!\n"
     ]
    }
   ],
   "source": [
    "\n",
    "while True:\n",
    "    nombre = input(\"Ingrese su nombre: \")\n",
    "    if nombre.lower() == \"rose\":\n",
    "        print(\"¡Nombre válido!\")\n",
    "        break  # Finalizar el bucle\n",
    "    else:\n",
    "        print(\"Nombre incorrecto. Intente de nuevo.\")\n"
   ]
  },
  {
   "cell_type": "markdown",
   "id": "99d892c8-8826-4814-b1d4-f4e0fd1b7f0e",
   "metadata": {},
   "source": [
    "# Validar nombre y contraseña usando continue\n",
    "## Hacer un programa que valide nombre y contraseña de dos listas respectivamente.\n"
   ]
  },
  {
   "cell_type": "code",
   "execution_count": 9,
   "id": "15506c1b-13a3-444b-9a32-1326dd9305d9",
   "metadata": {},
   "outputs": [
    {
     "name": "stdin",
     "output_type": "stream",
     "text": [
      "Ingrese su nombre:  abcd\n"
     ]
    },
    {
     "name": "stdout",
     "output_type": "stream",
     "text": [
      "Nombre no válido. Intente nuevamente.\n"
     ]
    },
    {
     "name": "stdin",
     "output_type": "stream",
     "text": [
      "Ingrese su nombre:  anna\n",
      "Ingrese su contraseña:  5678\n"
     ]
    },
    {
     "name": "stdout",
     "output_type": "stream",
     "text": [
      "¡Nombre y contraseña correctos!\n"
     ]
    }
   ],
   "source": [
    "\n",
    "nombres_validos = [\"rose\", \"jack\", \"anna\"]\n",
    "passwords_validos = [\"1234\", \"abcd\", \"5678\"]\n",
    "\n",
    "while True:\n",
    "    nombre = input(\"Ingrese su nombre: \").lower()\n",
    "    if nombre not in nombres_validos:\n",
    "        print(\"Nombre no válido. Intente nuevamente.\")\n",
    "        continue  # Saltar a la siguiente iteración\n",
    "\n",
    "    password = input(\"Ingrese su contraseña: \")\n",
    "    if password in passwords_validos:\n",
    "        print(\"¡Nombre y contraseña correctos!\")\n",
    "        break  # Finalizar el bucle\n",
    "    else:\n",
    "        print(\"Contraseña incorrecta. Intente nuevamente.\")\n"
   ]
  },
  {
   "cell_type": "markdown",
   "id": "56692679-8bd6-49c2-9bf8-6d22d22396c9",
   "metadata": {},
   "source": [
    "# Ejemplos"
   ]
  },
  {
   "cell_type": "markdown",
   "id": "e29328e7-06e9-4684-bf04-3cf2a6dac222",
   "metadata": {},
   "source": [
    "# Ejemplo 1: Buscar un número en una lista\n",
    "Hacer un programa que busque el número 2 dentro de una lista de números. Si se encuentra, que imprima el índice dentro de la lista."
   ]
  },
  {
   "cell_type": "code",
   "execution_count": 11,
   "id": "fd0edffc-4ffb-4534-89dc-ade70c180336",
   "metadata": {},
   "outputs": [
    {
     "name": "stdout",
     "output_type": "stream",
     "text": [
      "El número 2 ha sido encontrado en el índice 3\n"
     ]
    }
   ],
   "source": [
    "valores = [5, 1, 9, 2, 7, 4]\n",
    "encontrado = False\n",
    "indice = 0\n",
    "longitud = len(valores)\n",
    "\n",
    "while not encontrado and indice < longitud:\n",
    "    valor = valores[indice]\n",
    "    if valor == 2:\n",
    "        encontrado = True\n",
    "    else:\n",
    "        indice += 1\n",
    "\n",
    "if encontrado:\n",
    "    print(f'El número 2 ha sido encontrado en el índice {indice}')\n",
    "else:\n",
    "    print('El número 2 no se encuentra en la lista de valores')\n"
   ]
  },
  {
   "cell_type": "markdown",
   "id": "fd0fa246-dabd-4aea-8264-a487f41e03c9",
   "metadata": {},
   "source": [
    "# Ejemplo 2: Solicitar ingreso de contraseña con intentos limitados"
   ]
  },
  {
   "cell_type": "code",
   "execution_count": 13,
   "id": "6ffab977-d187-4eec-90f1-2e5323c8f19d",
   "metadata": {},
   "outputs": [
    {
     "name": "stdin",
     "output_type": "stream",
     "text": [
      "Por favor, ingrese su contraseña:  12345\n"
     ]
    },
    {
     "name": "stdout",
     "output_type": "stream",
     "text": [
      "¡Contraseña correcta!\n"
     ]
    }
   ],
   "source": [
    "password = ''\n",
    "intentos = 0\n",
    "MAX_INTENTOS = 5\n",
    "\n",
    "while password != '12345':\n",
    "    intentos += 1\n",
    "    password = input('Por favor, ingrese su contraseña: ')\n",
    "    if intentos == MAX_INTENTOS:\n",
    "        print('Finalizó los intentos...!')\n",
    "        break\n",
    "\n",
    "if intentos != MAX_INTENTOS:\n",
    "    print('¡Contraseña correcta!')\n"
   ]
  },
  {
   "cell_type": "markdown",
   "id": "ea90b930-b08a-4081-9cd6-d0c5009aecc6",
   "metadata": {},
   "source": [
    "# Ejemplo 3: Secuencia 3n+1\n",
    "Hacer un programa que imprima la secuencia 3n+1 desde un número inicial, terminando cuando llegue a 1."
   ]
  },
  {
   "cell_type": "code",
   "execution_count": 15,
   "id": "7e920d95-2a8d-4730-b25d-7201880d54fe",
   "metadata": {},
   "outputs": [
    {
     "name": "stdin",
     "output_type": "stream",
     "text": [
      "Ingrese un número de inicio n:  5\n"
     ]
    },
    {
     "name": "stdout",
     "output_type": "stream",
     "text": [
      "5, 16, 8, 4, 2, 1.\n"
     ]
    }
   ],
   "source": [
    "def seq3np1(n):\n",
    "    while n != 1:\n",
    "        print(n, end=\", \")\n",
    "        if n % 2 == 0:\n",
    "            n = n // 2\n",
    "        else:\n",
    "            n = n * 3 + 1\n",
    "    print(n, end=\".\\n\")\n",
    "\n",
    "num = int(input('Ingrese un número de inicio n: '))\n",
    "seq3np1(num)\n"
   ]
  },
  {
   "cell_type": "markdown",
   "id": "daf46dde-c079-4a02-819a-6dc88a81d1e7",
   "metadata": {},
   "source": [
    "# Ejemplo 4: Contar dígitos \"0\" y \"5\" en un número\n",
    "Hacer un programa con una función que cuente el número de dígitos que son 0 o 5 en un entero positivo.\n"
   ]
  },
  {
   "cell_type": "code",
   "execution_count": 17,
   "id": "3e4a1c1d-5b05-403d-be81-836d4cf32983",
   "metadata": {},
   "outputs": [
    {
     "name": "stdin",
     "output_type": "stream",
     "text": [
      "Ingrese un número que contenga los dígitos \"0\" y \"5\":  50\n"
     ]
    },
    {
     "name": "stdout",
     "output_type": "stream",
     "text": [
      "\n",
      "La cantidad de dígitos \"0\" y \"5\" en el número 50 es: 2\n"
     ]
    }
   ],
   "source": [
    "def num_digi(n):\n",
    "    count = 0\n",
    "    while n > 0:\n",
    "        digit = n % 10\n",
    "        if digit == 0 or digit == 5:\n",
    "            count += 1\n",
    "        n = n // 10\n",
    "    return count\n",
    "\n",
    "num = int(input('Ingrese un número que contenga los dígitos \"0\" y \"5\": '))\n",
    "cantidad = num_digi(num)\n",
    "print(f'\\nLa cantidad de dígitos \"0\" y \"5\" en el número {num} es: {cantidad}')\n"
   ]
  },
  {
   "cell_type": "code",
   "execution_count": null,
   "id": "ce9521fb-fc84-4583-beda-01f8c9d9d772",
   "metadata": {},
   "outputs": [],
   "source": []
  }
 ],
 "metadata": {
  "kernelspec": {
   "display_name": "Python 3 (ipykernel)",
   "language": "python",
   "name": "python3"
  },
  "language_info": {
   "codemirror_mode": {
    "name": "ipython",
    "version": 3
   },
   "file_extension": ".py",
   "mimetype": "text/x-python",
   "name": "python",
   "nbconvert_exporter": "python",
   "pygments_lexer": "ipython3",
   "version": "3.12.7"
  }
 },
 "nbformat": 4,
 "nbformat_minor": 5
}
